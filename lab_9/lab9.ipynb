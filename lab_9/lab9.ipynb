{
 "cells": [
  {
   "cell_type": "code",
   "execution_count": 9,
   "metadata": {},
   "outputs": [],
   "source": [
    "import pandas as pd\n",
    "from sklearn.datasets import load_files\n",
    "\n",
    "# Загрузка данных IMDB\n",
    "data = load_files('aclImdb/train', categories=['pos', 'neg'], encoding='utf-8', decode_error='ignore')\n",
    "texts, labels = data.data, data.target\n",
    "\n",
    "# Разделение на тренировочную и тестовую выборки\n",
    "from sklearn.model_selection import train_test_split\n",
    "X_train, X_test, y_train, y_test = train_test_split(texts, labels, test_size=0.2, random_state=42)\n"
   ]
  },
  {
   "cell_type": "code",
   "execution_count": 10,
   "metadata": {},
   "outputs": [
    {
     "name": "stdout",
     "output_type": "stream",
     "text": [
      "CountVectorizer:\n",
      "              precision    recall  f1-score   support\n",
      "\n",
      "           0       0.88      0.88      0.88      2482\n",
      "           1       0.88      0.88      0.88      2518\n",
      "\n",
      "    accuracy                           0.88      5000\n",
      "   macro avg       0.88      0.88      0.88      5000\n",
      "weighted avg       0.88      0.88      0.88      5000\n",
      "\n",
      "TfidfVectorizer:\n",
      "              precision    recall  f1-score   support\n",
      "\n",
      "           0       0.88      0.87      0.88      2482\n",
      "           1       0.87      0.88      0.88      2518\n",
      "\n",
      "    accuracy                           0.88      5000\n",
      "   macro avg       0.88      0.88      0.88      5000\n",
      "weighted avg       0.88      0.88      0.88      5000\n",
      "\n"
     ]
    }
   ],
   "source": [
    "from sklearn.feature_extraction.text import CountVectorizer, TfidfVectorizer\n",
    "from sklearn.linear_model import LogisticRegression\n",
    "from sklearn.metrics import classification_report\n",
    "\n",
    "# Использование CountVectorizer\n",
    "count_vectorizer = CountVectorizer()\n",
    "X_train_counts = count_vectorizer.fit_transform(X_train)\n",
    "X_test_counts = count_vectorizer.transform(X_test)\n",
    "\n",
    "# Обучение модели логистической регрессии\n",
    "clf_count = LogisticRegression(max_iter=1000)\n",
    "clf_count.fit(X_train_counts, y_train)\n",
    "\n",
    "# Предсказание и оценка\n",
    "y_pred_count = clf_count.predict(X_test_counts)\n",
    "print(\"CountVectorizer:\")\n",
    "print(classification_report(y_test, y_pred_count))\n",
    "\n",
    "# Использование TfidfVectorizer\n",
    "tfidf_vectorizer = TfidfVectorizer()\n",
    "X_train_tfidf = tfidf_vectorizer.fit_transform(X_train)\n",
    "X_test_tfidf = tfidf_vectorizer.transform(X_test)\n",
    "\n",
    "# Обучение модели логистической регрессии\n",
    "clf_tfidf = LogisticRegression(max_iter=1000)\n",
    "clf_tfidf.fit(X_train_tfidf, y_train)\n",
    "\n",
    "# Предсказание и оценка\n",
    "y_pred_tfidf = clf_tfidf.predict(X_test_tfidf)\n",
    "print(\"TfidfVectorizer:\")\n",
    "print(classification_report(y_test, y_pred_tfidf))\n"
   ]
  },
  {
   "cell_type": "code",
   "execution_count": 12,
   "metadata": {},
   "outputs": [
    {
     "name": "stdout",
     "output_type": "stream",
     "text": [
      "Word2Vec:\n",
      "              precision    recall  f1-score   support\n",
      "\n",
      "           0       0.85      0.84      0.84      2482\n",
      "           1       0.85      0.85      0.85      2518\n",
      "\n",
      "    accuracy                           0.85      5000\n",
      "   macro avg       0.85      0.85      0.85      5000\n",
      "weighted avg       0.85      0.85      0.85      5000\n",
      "\n"
     ]
    }
   ],
   "source": [
    "import gensim\n",
    "from gensim.models import Word2Vec\n",
    "import numpy as np\n",
    "\n",
    "# Токенизация текстов\n",
    "def tokenize_text(text):\n",
    "    return gensim.utils.simple_preprocess(text)\n",
    "\n",
    "X_train_tokens = [tokenize_text(text) for text in X_train]\n",
    "X_test_tokens = [tokenize_text(text) for text in X_test]\n",
    "\n",
    "# Обучение модели Word2Vec\n",
    "model = Word2Vec(sentences=X_train_tokens, vector_size=100, window=5, min_count=1, workers=4)\n",
    "model.train(X_train_tokens, total_examples=len(X_train_tokens), epochs=10)\n",
    "\n",
    "# Преобразование текстов в эмбеддинги\n",
    "def get_embedding(tokens, model):\n",
    "    vectors = [model.wv[token] for token in tokens if token in model.wv]\n",
    "    return np.mean(vectors, axis=0) if vectors else np.zeros(model.vector_size)\n",
    "\n",
    "X_train_vecs = np.array([get_embedding(tokens, model) for tokens in X_train_tokens])\n",
    "X_test_vecs = np.array([get_embedding(tokens, model) for tokens in X_test_tokens])\n",
    "\n",
    "# Обучение модели логистической регрессии\n",
    "clf_w2v = LogisticRegression(max_iter=1000)\n",
    "clf_w2v.fit(X_train_vecs, y_train)\n",
    "\n",
    "# Предсказание и оценка\n",
    "y_pred_w2v = clf_w2v.predict(X_test_vecs)\n",
    "print(\"Word2Vec:\")\n",
    "print(classification_report(y_test, y_pred_w2v))\n"
   ]
  }
 ],
 "metadata": {
  "kernelspec": {
   "display_name": "venv",
   "language": "python",
   "name": "python3"
  },
  "language_info": {
   "codemirror_mode": {
    "name": "ipython",
    "version": 3
   },
   "file_extension": ".py",
   "mimetype": "text/x-python",
   "name": "python",
   "nbconvert_exporter": "python",
   "pygments_lexer": "ipython3",
   "version": "3.10.12"
  }
 },
 "nbformat": 4,
 "nbformat_minor": 2
}

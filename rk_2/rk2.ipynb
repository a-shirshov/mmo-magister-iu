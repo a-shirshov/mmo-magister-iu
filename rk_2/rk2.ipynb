{
 "cells": [
  {
   "cell_type": "code",
   "execution_count": 1,
   "metadata": {},
   "outputs": [],
   "source": [
    "import pandas as pd\n",
    "from sklearn.datasets import load_files\n",
    "\n",
    "# Загрузка датасета IMDB Movie Reviews\n",
    "def load_imdb_dataset():\n",
    "    dataset = load_files('aclImdb/train/', shuffle=True)\n",
    "    texts, labels = dataset.data, dataset.target\n",
    "    return texts, labels\n",
    "\n",
    "texts, labels = load_imdb_dataset()\n"
   ]
  },
  {
   "cell_type": "code",
   "execution_count": 2,
   "metadata": {},
   "outputs": [],
   "source": [
    "import numpy as np\n",
    "from sklearn.model_selection import train_test_split\n",
    "\n",
    "# Преобразование байтов в строки\n",
    "texts = [text.decode('utf-8') for text in texts]\n",
    "\n",
    "# Разделение данных на обучающую и тестовую выборки\n",
    "X_train, X_test, y_train, y_test = train_test_split(texts, labels, test_size=0.2, random_state=42)\n"
   ]
  },
  {
   "cell_type": "code",
   "execution_count": 3,
   "metadata": {},
   "outputs": [],
   "source": [
    "from sklearn.feature_extraction.text import CountVectorizer, TfidfVectorizer\n",
    "\n",
    "# Векторизация с использованием CountVectorizer\n",
    "count_vectorizer = CountVectorizer(max_features=5000)\n",
    "X_train_count = count_vectorizer.fit_transform(X_train)\n",
    "X_test_count = count_vectorizer.transform(X_test)\n",
    "\n",
    "# Векторизация с использованием TfidfVectorizer\n",
    "tfidf_vectorizer = TfidfVectorizer(max_features=5000)\n",
    "X_train_tfidf = tfidf_vectorizer.fit_transform(X_train)\n",
    "X_test_tfidf = tfidf_vectorizer.transform(X_test)\n"
   ]
  },
  {
   "cell_type": "code",
   "execution_count": 4,
   "metadata": {},
   "outputs": [
    {
     "name": "stderr",
     "output_type": "stream",
     "text": [
      "/home/artyom/DLIU/venv/lib/python3.10/site-packages/sklearn/linear_model/_logistic.py:469: ConvergenceWarning: lbfgs failed to converge (status=1):\n",
      "STOP: TOTAL NO. of ITERATIONS REACHED LIMIT.\n",
      "\n",
      "Increase the number of iterations (max_iter) or scale the data as shown in:\n",
      "    https://scikit-learn.org/stable/modules/preprocessing.html\n",
      "Please also refer to the documentation for alternative solver options:\n",
      "    https://scikit-learn.org/stable/modules/linear_model.html#logistic-regression\n",
      "  n_iter_i = _check_optimize_result(\n"
     ]
    }
   ],
   "source": [
    "from sklearn.ensemble import GradientBoostingClassifier\n",
    "from sklearn.linear_model import LogisticRegression\n",
    "from sklearn.metrics import accuracy_score, classification_report\n",
    "\n",
    "# GradientBoostingClassifier с CountVectorizer\n",
    "gbc_count = GradientBoostingClassifier()\n",
    "gbc_count.fit(X_train_count, y_train)\n",
    "y_pred_gbc_count = gbc_count.predict(X_test_count)\n",
    "accuracy_gbc_count = accuracy_score(y_test, y_pred_gbc_count)\n",
    "report_gbc_count = classification_report(y_test, y_pred_gbc_count)\n",
    "\n",
    "# GradientBoostingClassifier с TfidfVectorizer\n",
    "gbc_tfidf = GradientBoostingClassifier()\n",
    "gbc_tfidf.fit(X_train_tfidf, y_train)\n",
    "y_pred_gbc_tfidf = gbc_tfidf.predict(X_test_tfidf)\n",
    "accuracy_gbc_tfidf = accuracy_score(y_test, y_pred_gbc_tfidf)\n",
    "report_gbc_tfidf = classification_report(y_test, y_pred_gbc_tfidf)\n",
    "\n",
    "# LogisticRegression с CountVectorizer\n",
    "lr_count = LogisticRegression(max_iter=1000)\n",
    "lr_count.fit(X_train_count, y_train)\n",
    "y_pred_lr_count = lr_count.predict(X_test_count)\n",
    "accuracy_lr_count = accuracy_score(y_test, y_pred_lr_count)\n",
    "report_lr_count = classification_report(y_test, y_pred_lr_count)\n",
    "\n",
    "# LogisticRegression с TfidfVectorizer\n",
    "lr_tfidf = LogisticRegression(max_iter=1000)\n",
    "lr_tfidf.fit(X_train_tfidf, y_train)\n",
    "y_pred_lr_tfidf = lr_tfidf.predict(X_test_tfidf)\n",
    "accuracy_lr_tfidf = accuracy_score(y_test, y_pred_lr_tfidf)\n",
    "report_lr_tfidf = classification_report(y_test, y_pred_lr_tfidf)\n"
   ]
  },
  {
   "cell_type": "code",
   "execution_count": 5,
   "metadata": {},
   "outputs": [
    {
     "name": "stdout",
     "output_type": "stream",
     "text": [
      "GradientBoostingClassifier с CountVectorizer\n",
      "Accuracy: 0.6325644098262433\n",
      "              precision    recall  f1-score   support\n",
      "\n",
      "           0       0.74      0.76      0.75      2620\n",
      "           1       0.55      0.86      0.67      2429\n",
      "           2       0.66      0.10      0.17      1627\n",
      "\n",
      "    accuracy                           0.63      6676\n",
      "   macro avg       0.65      0.57      0.53      6676\n",
      "weighted avg       0.65      0.63      0.58      6676\n",
      "\n",
      "GradientBoostingClassifier с TfidfVectorizer\n",
      "Accuracy: 0.6331635710005992\n",
      "              precision    recall  f1-score   support\n",
      "\n",
      "           0       0.74      0.76      0.75      2620\n",
      "           1       0.56      0.85      0.67      2429\n",
      "           2       0.67      0.11      0.19      1627\n",
      "\n",
      "    accuracy                           0.63      6676\n",
      "   macro avg       0.65      0.57      0.54      6676\n",
      "weighted avg       0.65      0.63      0.58      6676\n",
      "\n",
      "LogisticRegression с CountVectorizer\n",
      "Accuracy: 0.6503894547633313\n",
      "              precision    recall  f1-score   support\n",
      "\n",
      "           0       0.76      0.76      0.76      2620\n",
      "           1       0.65      0.68      0.67      2429\n",
      "           2       0.46      0.44      0.45      1627\n",
      "\n",
      "    accuracy                           0.65      6676\n",
      "   macro avg       0.62      0.62      0.62      6676\n",
      "weighted avg       0.65      0.65      0.65      6676\n",
      "\n",
      "LogisticRegression с TfidfVectorizer\n",
      "Accuracy: 0.6980227681246255\n",
      "              precision    recall  f1-score   support\n",
      "\n",
      "           0       0.79      0.84      0.82      2620\n",
      "           1       0.65      0.79      0.71      2429\n",
      "           2       0.57      0.33      0.42      1627\n",
      "\n",
      "    accuracy                           0.70      6676\n",
      "   macro avg       0.67      0.65      0.65      6676\n",
      "weighted avg       0.69      0.70      0.68      6676\n",
      "\n"
     ]
    }
   ],
   "source": [
    "print(\"GradientBoostingClassifier с CountVectorizer\")\n",
    "print(\"Accuracy:\", accuracy_gbc_count)\n",
    "print(report_gbc_count)\n",
    "\n",
    "print(\"GradientBoostingClassifier с TfidfVectorizer\")\n",
    "print(\"Accuracy:\", accuracy_gbc_tfidf)\n",
    "print(report_gbc_tfidf)\n",
    "\n",
    "print(\"LogisticRegression с CountVectorizer\")\n",
    "print(\"Accuracy:\", accuracy_lr_count)\n",
    "print(report_lr_count)\n",
    "\n",
    "print(\"LogisticRegression с TfidfVectorizer\")\n",
    "print(\"Accuracy:\", accuracy_lr_tfidf)\n",
    "print(report_lr_tfidf)\n"
   ]
  },
  {
   "cell_type": "code",
   "execution_count": 6,
   "metadata": {},
   "outputs": [
    {
     "name": "stdout",
     "output_type": "stream",
     "text": [
      "Лучший метод: LR + Tfidf с точностью 0.6980\n"
     ]
    }
   ],
   "source": [
    "results = {\n",
    "    \"GBC + Count\": accuracy_gbc_count,\n",
    "    \"GBC + Tfidf\": accuracy_gbc_tfidf,\n",
    "    \"LR + Count\": accuracy_lr_count,\n",
    "    \"LR + Tfidf\": accuracy_lr_tfidf\n",
    "}\n",
    "\n",
    "best_method = max(results, key=results.get)\n",
    "print(f\"Лучший метод: {best_method} с точностью {results[best_method]:.4f}\")\n"
   ]
  }
 ],
 "metadata": {
  "kernelspec": {
   "display_name": "venv",
   "language": "python",
   "name": "python3"
  },
  "language_info": {
   "codemirror_mode": {
    "name": "ipython",
    "version": 3
   },
   "file_extension": ".py",
   "mimetype": "text/x-python",
   "name": "python",
   "nbconvert_exporter": "python",
   "pygments_lexer": "ipython3",
   "version": "3.10.12"
  }
 },
 "nbformat": 4,
 "nbformat_minor": 2
}
